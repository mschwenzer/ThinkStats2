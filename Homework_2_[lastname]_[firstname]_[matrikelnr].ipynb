{
  "nbformat": 4,
  "nbformat_minor": 0,
  "metadata": {
    "colab": {
      "name": "Homework_2_[lastname]_[firstname]_[matrikelnr].ipynb",
      "provenance": [],
      "collapsed_sections": [],
      "include_colab_link": true
    },
    "kernelspec": {
      "name": "python3",
      "display_name": "Python 3"
    }
  },
  "cells": [
    {
      "cell_type": "markdown",
      "metadata": {
        "id": "view-in-github",
        "colab_type": "text"
      },
      "source": [
        "<a href=\"https://colab.research.google.com/github/mschwenzer/ThinkStats2/blob/master/Homework_2_%5Blastname%5D_%5Bfirstname%5D_%5Bmatrikelnr%5D.ipynb\" target=\"_parent\"><img src=\"https://colab.research.google.com/assets/colab-badge.svg\" alt=\"Open In Colab\"/></a>"
      ]
    },
    {
      "cell_type": "markdown",
      "metadata": {
        "id": "tSS-ZXGkNI9j",
        "colab_type": "text"
      },
      "source": [
        "## Data Mining and Probabilistic Reasoning, WS19/20\n",
        "Dr. Gjergji Kasneci, The University of Tübingen\n",
        "\n",
        "# Homework 2\n",
        "----"
      ]
    },
    {
      "cell_type": "markdown",
      "metadata": {
        "id": "X9DOCni6MhtU",
        "colab_type": "text"
      },
      "source": [
        "\n",
        "Note: Please add your solution to the homework in this Jupyter Notebook and upload it to Ilias until 03.12.19, 09:00 o'clock. Make sure you use the following naming convention: a2_[lastname]_[firstname]_[matrikelnr].ipynb\n",
        "If you want to work as a group, please use the following naming convention: a2_group_[matrikelnr1]_[matrikelnr2]_[...].ipynb. Also list your group members here, for example:\n",
        "- John Snow, student ID,\n",
        "- Ygritte, student ID,\n",
        "- ... \n",
        "\n",
        "\n",
        "----\n",
        "**Your task is to:**\n",
        "Given a data set aswer to questions below using **code**, for example: \n",
        "```\n",
        "#Q1 How old was the youngest athlete in Olympic games based on the provided dataset?\n",
        "print(df.Age.min())\n",
        "> 10 \n",
        "```\n",
        "and yes this is true: \n",
        "\n",
        "`According to Olympic figures, Greek gymnast Dimitrios Loundras is the youngest known medalist. When Loundras finished third in the team parallels bars at the 1896 Olympic Games, he was 10 years and 218 days old.`\n",
        "\n",
        "\n",
        "------\n",
        "\n",
        "\n",
        "## In order to pass the HW, you need to answer correctly: **5 questions.**\n",
        "\n"
      ]
    },
    {
      "cell_type": "markdown",
      "metadata": {
        "id": "UQSybNnW5bO2",
        "colab_type": "text"
      },
      "source": [
        "Vadim (vadim.borisov@uni-tuebingen.de)"
      ]
    },
    {
      "cell_type": "code",
      "metadata": {
        "id": "hnpIJKyX5osG",
        "colab_type": "code",
        "colab": {}
      },
      "source": [
        ""
      ],
      "execution_count": 0,
      "outputs": []
    },
    {
      "cell_type": "code",
      "metadata": {
        "id": "wR4jrveO5o0K",
        "colab_type": "code",
        "colab": {}
      },
      "source": [
        ""
      ],
      "execution_count": 0,
      "outputs": []
    },
    {
      "cell_type": "code",
      "metadata": {
        "id": "rpoEXObLNGxK",
        "colab_type": "code",
        "colab": {}
      },
      "source": [
        "# load modules\n",
        "import pandas as pd\n",
        "import numpy as np"
      ],
      "execution_count": 0,
      "outputs": []
    },
    {
      "cell_type": "code",
      "metadata": {
        "id": "JILbGXrZOZwJ",
        "colab_type": "code",
        "colab": {}
      },
      "source": [
        "# data frame \n",
        "link_to_data = 'https://www.dropbox.com/s/16ydeynisr0ngh9/athlete_events.csv?dl=1'\n",
        "df = pd.read_csv(link_to_data)"
      ],
      "execution_count": 0,
      "outputs": []
    },
    {
      "cell_type": "code",
      "metadata": {
        "id": "cuvOdrs3OhVM",
        "colab_type": "code",
        "outputId": "34ffdf39-2653-42b0-ab8d-af68862c3cf7",
        "colab": {
          "base_uri": "https://localhost:8080/",
          "height": 204
        }
      },
      "source": [
        "df.head()"
      ],
      "execution_count": 0,
      "outputs": [
        {
          "output_type": "execute_result",
          "data": {
            "text/html": [
              "<div>\n",
              "<style scoped>\n",
              "    .dataframe tbody tr th:only-of-type {\n",
              "        vertical-align: middle;\n",
              "    }\n",
              "\n",
              "    .dataframe tbody tr th {\n",
              "        vertical-align: top;\n",
              "    }\n",
              "\n",
              "    .dataframe thead th {\n",
              "        text-align: right;\n",
              "    }\n",
              "</style>\n",
              "<table border=\"1\" class=\"dataframe\">\n",
              "  <thead>\n",
              "    <tr style=\"text-align: right;\">\n",
              "      <th></th>\n",
              "      <th>ID</th>\n",
              "      <th>Name</th>\n",
              "      <th>Sex</th>\n",
              "      <th>Age</th>\n",
              "      <th>Height</th>\n",
              "      <th>Weight</th>\n",
              "      <th>Team</th>\n",
              "      <th>NOC</th>\n",
              "      <th>Games</th>\n",
              "      <th>Year</th>\n",
              "      <th>Season</th>\n",
              "      <th>City</th>\n",
              "      <th>Sport</th>\n",
              "      <th>Event</th>\n",
              "      <th>Medal</th>\n",
              "    </tr>\n",
              "  </thead>\n",
              "  <tbody>\n",
              "    <tr>\n",
              "      <th>0</th>\n",
              "      <td>1</td>\n",
              "      <td>A Dijiang</td>\n",
              "      <td>M</td>\n",
              "      <td>24.0</td>\n",
              "      <td>180.0</td>\n",
              "      <td>80.0</td>\n",
              "      <td>China</td>\n",
              "      <td>CHN</td>\n",
              "      <td>1992 Summer</td>\n",
              "      <td>1992</td>\n",
              "      <td>Summer</td>\n",
              "      <td>Barcelona</td>\n",
              "      <td>Basketball</td>\n",
              "      <td>Basketball Men's Basketball</td>\n",
              "      <td>NaN</td>\n",
              "    </tr>\n",
              "    <tr>\n",
              "      <th>1</th>\n",
              "      <td>2</td>\n",
              "      <td>A Lamusi</td>\n",
              "      <td>M</td>\n",
              "      <td>23.0</td>\n",
              "      <td>170.0</td>\n",
              "      <td>60.0</td>\n",
              "      <td>China</td>\n",
              "      <td>CHN</td>\n",
              "      <td>2012 Summer</td>\n",
              "      <td>2012</td>\n",
              "      <td>Summer</td>\n",
              "      <td>London</td>\n",
              "      <td>Judo</td>\n",
              "      <td>Judo Men's Extra-Lightweight</td>\n",
              "      <td>NaN</td>\n",
              "    </tr>\n",
              "    <tr>\n",
              "      <th>2</th>\n",
              "      <td>3</td>\n",
              "      <td>Gunnar Nielsen Aaby</td>\n",
              "      <td>M</td>\n",
              "      <td>24.0</td>\n",
              "      <td>NaN</td>\n",
              "      <td>NaN</td>\n",
              "      <td>Denmark</td>\n",
              "      <td>DEN</td>\n",
              "      <td>1920 Summer</td>\n",
              "      <td>1920</td>\n",
              "      <td>Summer</td>\n",
              "      <td>Antwerpen</td>\n",
              "      <td>Football</td>\n",
              "      <td>Football Men's Football</td>\n",
              "      <td>NaN</td>\n",
              "    </tr>\n",
              "    <tr>\n",
              "      <th>3</th>\n",
              "      <td>4</td>\n",
              "      <td>Edgar Lindenau Aabye</td>\n",
              "      <td>M</td>\n",
              "      <td>34.0</td>\n",
              "      <td>NaN</td>\n",
              "      <td>NaN</td>\n",
              "      <td>Denmark/Sweden</td>\n",
              "      <td>DEN</td>\n",
              "      <td>1900 Summer</td>\n",
              "      <td>1900</td>\n",
              "      <td>Summer</td>\n",
              "      <td>Paris</td>\n",
              "      <td>Tug-Of-War</td>\n",
              "      <td>Tug-Of-War Men's Tug-Of-War</td>\n",
              "      <td>Gold</td>\n",
              "    </tr>\n",
              "    <tr>\n",
              "      <th>4</th>\n",
              "      <td>5</td>\n",
              "      <td>Christine Jacoba Aaftink</td>\n",
              "      <td>F</td>\n",
              "      <td>21.0</td>\n",
              "      <td>185.0</td>\n",
              "      <td>82.0</td>\n",
              "      <td>Netherlands</td>\n",
              "      <td>NED</td>\n",
              "      <td>1988 Winter</td>\n",
              "      <td>1988</td>\n",
              "      <td>Winter</td>\n",
              "      <td>Calgary</td>\n",
              "      <td>Speed Skating</td>\n",
              "      <td>Speed Skating Women's 500 metres</td>\n",
              "      <td>NaN</td>\n",
              "    </tr>\n",
              "  </tbody>\n",
              "</table>\n",
              "</div>"
            ],
            "text/plain": [
              "   ID                      Name  ...                             Event  Medal\n",
              "0   1                 A Dijiang  ...       Basketball Men's Basketball    NaN\n",
              "1   2                  A Lamusi  ...      Judo Men's Extra-Lightweight    NaN\n",
              "2   3       Gunnar Nielsen Aaby  ...           Football Men's Football    NaN\n",
              "3   4      Edgar Lindenau Aabye  ...       Tug-Of-War Men's Tug-Of-War   Gold\n",
              "4   5  Christine Jacoba Aaftink  ...  Speed Skating Women's 500 metres    NaN\n",
              "\n",
              "[5 rows x 15 columns]"
            ]
          },
          "metadata": {
            "tags": []
          },
          "execution_count": 5
        }
      ]
    },
    {
      "cell_type": "code",
      "metadata": {
        "id": "hWJEr0i47JLI",
        "colab_type": "code",
        "colab": {}
      },
      "source": [
        ""
      ],
      "execution_count": 0,
      "outputs": []
    },
    {
      "cell_type": "markdown",
      "metadata": {
        "id": "e4Eu1ZHBPNci",
        "colab_type": "text"
      },
      "source": [
        "Q1. How old were the youngest male and female participants of the Olympic Game in 2012? "
      ]
    },
    {
      "cell_type": "code",
      "metadata": {
        "id": "cOxZFnCnOvk8",
        "colab_type": "code",
        "colab": {}
      },
      "source": [
        ""
      ],
      "execution_count": 0,
      "outputs": []
    },
    {
      "cell_type": "markdown",
      "metadata": {
        "id": "5tm3LKyAP0Lu",
        "colab_type": "text"
      },
      "source": [
        "Q2. What are the mean and standart deviation of height for male tennis playes? Round your answer to the first two decimal. "
      ]
    },
    {
      "cell_type": "code",
      "metadata": {
        "id": "qWfK02vHQAPh",
        "colab_type": "code",
        "colab": {}
      },
      "source": [
        ""
      ],
      "execution_count": 0,
      "outputs": []
    },
    {
      "cell_type": "markdown",
      "metadata": {
        "id": "PgJf48N0QBLY",
        "colab_type": "text"
      },
      "source": [
        "Q3. Please find the heaviest athlete among 2012 Olympics participants. What sport did he or she do?"
      ]
    },
    {
      "cell_type": "code",
      "metadata": {
        "id": "nLq1vfO1QWwD",
        "colab_type": "code",
        "colab": {}
      },
      "source": [
        "\n"
      ],
      "execution_count": 0,
      "outputs": []
    },
    {
      "cell_type": "markdown",
      "metadata": {
        "id": "Zehd3vlQQdTd",
        "colab_type": "text"
      },
      "source": [
        "Q4. How many times did `Heikki Ilmari Savolainen`  participate in the Olympics held in different years?\n"
      ]
    },
    {
      "cell_type": "code",
      "metadata": {
        "id": "QafCSm-EQeuR",
        "colab_type": "code",
        "colab": {}
      },
      "source": [
        ""
      ],
      "execution_count": 0,
      "outputs": []
    },
    {
      "cell_type": "markdown",
      "metadata": {
        "id": "TylyFTXBRP6j",
        "colab_type": "text"
      },
      "source": [
        "Q5. How many gold medals in tennis did the SWITZERLAND team win at the 2008 Olympics?"
      ]
    },
    {
      "cell_type": "code",
      "metadata": {
        "id": "vKCK5FALRYF9",
        "colab_type": "code",
        "colab": {}
      },
      "source": [
        ""
      ],
      "execution_count": 0,
      "outputs": []
    },
    {
      "cell_type": "markdown",
      "metadata": {
        "id": "6OEHKnCsQXTk",
        "colab_type": "text"
      },
      "source": [
        "Q6. Is it true that Italy won fewer medals than Portugal at the 2016 Olympics? "
      ]
    },
    {
      "cell_type": "code",
      "metadata": {
        "id": "pHDsq8I7RpoW",
        "colab_type": "code",
        "colab": {}
      },
      "source": [
        ""
      ],
      "execution_count": 0,
      "outputs": []
    },
    {
      "cell_type": "markdown",
      "metadata": {
        "id": "qhgv9n8mRp7i",
        "colab_type": "text"
      },
      "source": [
        "Q7. What are the most and least common age groups among the participants of the 2008 Olympics? \n",
        "Please use these age groups: \n",
        "```young  = (10, 35), middle-aged = (36, 55), old = (from 56, ...)```"
      ]
    },
    {
      "cell_type": "code",
      "metadata": {
        "id": "R-f3-UpNRrom",
        "colab_type": "code",
        "colab": {}
      },
      "source": [
        ""
      ],
      "execution_count": 0,
      "outputs": []
    },
    {
      "cell_type": "markdown",
      "metadata": {
        "id": "OFlUPdA4RXI0",
        "colab_type": "text"
      },
      "source": [
        "Q8. Task. Please replace NaNs for two features: `Height, Weight`. Please explain your strategy."
      ]
    },
    {
      "cell_type": "code",
      "metadata": {
        "id": "6NLGZm0x5InK",
        "colab_type": "code",
        "colab": {}
      },
      "source": [
        ""
      ],
      "execution_count": 0,
      "outputs": []
    },
    {
      "cell_type": "markdown",
      "metadata": {
        "id": "Fc9cwWx-5-ou",
        "colab_type": "text"
      },
      "source": [
        "Q9. Please indicate categorical features in a data set. Store feature names in a list. \n",
        "How many categorical features did you find? "
      ]
    },
    {
      "cell_type": "code",
      "metadata": {
        "id": "pA2J6doW57IK",
        "colab_type": "code",
        "colab": {}
      },
      "source": [
        ""
      ],
      "execution_count": 0,
      "outputs": []
    }
  ]
}